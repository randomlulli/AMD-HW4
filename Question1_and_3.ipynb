{
 "cells": [
  {
   "cell_type": "markdown",
   "metadata": {},
   "source": [
    "# Question 1"
   ]
  },
  {
   "cell_type": "markdown",
   "metadata": {},
   "source": [
    "The file contains 139 000 000 strings with 32 hexadecimal characters."
   ]
  },
  {
   "cell_type": "code",
   "execution_count": 1,
   "metadata": {},
   "outputs": [],
   "source": [
    "from tqdm import tqdm\n",
    "file=open(\"hash.txt\",\"r\")\n",
    "line=file.readline()\n",
    "file.close()"
   ]
  },
  {
   "cell_type": "code",
   "execution_count": 2,
   "metadata": {},
   "outputs": [
    {
     "data": {
      "text/plain": [
       "'844082e02a27ddee8d99ea1af94a2969\\n'"
      ]
     },
     "execution_count": 2,
     "metadata": {},
     "output_type": "execute_result"
    }
   ],
   "source": [
    "line"
   ]
  },
  {
   "cell_type": "markdown",
   "metadata": {},
   "source": [
    "Observe that it also read the \"\\n\" character. We will not consider it during the hasing later."
   ]
  },
  {
   "cell_type": "markdown",
   "metadata": {},
   "source": [
    "## Hashing function\n",
    "\n",
    "We use a simple hashing function for this problem since all the strings are quite long. This is also fast to compute.\n",
    "Given a string $s=c_1c_2...c_{32}$, we define $my\\_hash(s)=h+\\sum_{n=1}^{32} ord(c_i)\\cdot p^{i-1} \\ \\ \\ mod\\ 2^{64}$, where $ord()$ is the ASCII value given by the built-in python function while $p$ and $h$ are two fixed primes. We chose $h=7$ and $p=31$ for our purposes, but higher primes can be used. "
   ]
  },
  {
   "cell_type": "code",
   "execution_count": 3,
   "metadata": {},
   "outputs": [],
   "source": [
    "p=31\n",
    "const=2**64\n",
    "#Since all the strings we're hashing have 32 characters, we can precompute some powers of the prime.\n",
    "#For 32 digits numbers it is only necessary to use the first 32 powers (including the 0th power).\n",
    "powers=[1]\n",
    "for i in range(1,64):\n",
    "    powers.append((powers[i-1]*p)%const)\n"
   ]
  },
  {
   "cell_type": "code",
   "execution_count": 4,
   "metadata": {},
   "outputs": [],
   "source": [
    "def my_hash(string):\n",
    "    h = 7;\n",
    "    for i in range(len(string)):\n",
    "        h +=  ord(string[i])*powers[i]\n",
    "        #h = h%const\n",
    "    return h%const"
   ]
  },
  {
   "cell_type": "code",
   "execution_count": 5,
   "metadata": {},
   "outputs": [
    {
     "data": {
      "text/plain": [
       "10509802827583165011"
      ]
     },
     "execution_count": 5,
     "metadata": {},
     "output_type": "execute_result"
    }
   ],
   "source": [
    "my_hash(\"844082e02a27ddef8d99ea1af94a2969\")"
   ]
  },
  {
   "cell_type": "markdown",
   "metadata": {},
   "source": [
    "The output has to be converted to binary for the HyperLogLog algorithm"
   ]
  },
  {
   "cell_type": "markdown",
   "metadata": {},
   "source": [
    "## HyperLogLog\n",
    "\n",
    "HyperLogLog is an algorithm that uses hashing to approximate the number of distinct elements in a list. The main advantage is that it achieves a very high accuracy while using very little memory compared to the naive approach of putting all the elements in a set. For more information, see [here](http://algo.inria.fr/flajolet/Publications/FlFuGaMe07.pdf)."
   ]
  },
  {
   "cell_type": "markdown",
   "metadata": {},
   "source": [
    "This function adds leading zeros if the binary number doesn't have any."
   ]
  },
  {
   "cell_type": "code",
   "execution_count": 6,
   "metadata": {},
   "outputs": [],
   "source": [
    "def add_zeros(string):\n",
    "    return \"0\"*(64-len(string))+string"
   ]
  },
  {
   "cell_type": "markdown",
   "metadata": {},
   "source": [
    "We initialize the registers for the HLL data structure. "
   ]
  },
  {
   "cell_type": "code",
   "execution_count": 7,
   "metadata": {},
   "outputs": [],
   "source": [
    "m=16 #This is the number of bits used for buckets \n",
    "\n",
    "#Let's define a vector of 2**m integers for the HLL:\n",
    "registers=[0 for x in range(2**m)]"
   ]
  },
  {
   "cell_type": "markdown",
   "metadata": {},
   "source": [
    "This function takes as input a binary number in string format (because we want to keep the leading zeros) and returns the index of the corresponding register."
   ]
  },
  {
   "cell_type": "code",
   "execution_count": 8,
   "metadata": {},
   "outputs": [],
   "source": [
    "def bucket_index(string):\n",
    "    temp=string[:m]\n",
    "    temp=int(temp, 2)\n",
    "    return temp"
   ]
  },
  {
   "cell_type": "markdown",
   "metadata": {},
   "source": [
    "This function counts the number of zeros after the digits used to select the register. "
   ]
  },
  {
   "cell_type": "code",
   "execution_count": 9,
   "metadata": {},
   "outputs": [],
   "source": [
    "def num_leading_zeros(string):\n",
    "    string=string[m:]\n",
    "    maximum=0\n",
    "    temp=0\n",
    "    for i in range(len(string)):\n",
    "        if string[i]==\"0\":\n",
    "            temp+=1\n",
    "        else:\n",
    "            maximum=temp\n",
    "            break\n",
    "            \n",
    "    return maximum\n",
    "        \n",
    "        "
   ]
  },
  {
   "cell_type": "markdown",
   "metadata": {},
   "source": [
    "We can finally use all these functions to implement the HLL on the \"hash.txt\" file."
   ]
  },
  {
   "cell_type": "code",
   "execution_count": 10,
   "metadata": {},
   "outputs": [
    {
     "name": "stderr",
     "output_type": "stream",
     "text": [
      "139000000it [21:22, 108358.95it/s]\n"
     ]
    }
   ],
   "source": [
    "file=open(\"F:\\hash.txt\",\"r\")\n",
    "for line in tqdm(file):\n",
    "    hash_value=add_zeros((\"{0:b}\".format(my_hash(line[:-1]))))\n",
    "    registers[bucket_index(hash_value)]=max(registers[bucket_index(hash_value)],num_leading_zeros(hash_value))\n",
    "file.close()"
   ]
  },
  {
   "cell_type": "code",
   "execution_count": 11,
   "metadata": {},
   "outputs": [],
   "source": [
    "a_m = 0.7213/(1+1.079/(2**m))\n",
    "#This is a good approximation for the $a_m$ value in the HyperLogLog Algorithm"
   ]
  },
  {
   "cell_type": "markdown",
   "metadata": {},
   "source": [
    "We finally compute the expected value."
   ]
  },
  {
   "cell_type": "code",
   "execution_count": 12,
   "metadata": {},
   "outputs": [],
   "source": [
    "sum=0\n",
    "for i in range(len(registers)):\n",
    "    sum+=2**(-registers[i]-1) \n",
    "    #The \"-1\" is here because we count the number of consecutive zeroes, while the HLL algorithm asks\n",
    "    #for the first \"1\" appearing, which is the next position\n",
    "sum=sum**(-1)\n",
    "expected_value=(2**m)**2*a_m*sum"
   ]
  },
  {
   "cell_type": "code",
   "execution_count": 13,
   "metadata": {},
   "outputs": [
    {
     "data": {
      "text/plain": [
       "124263775.63713567"
      ]
     },
     "execution_count": 13,
     "metadata": {},
     "output_type": "execute_result"
    }
   ],
   "source": [
    "expected_value"
   ]
  },
  {
   "cell_type": "markdown",
   "metadata": {},
   "source": [
    "## Exact calculation\n",
    "\n",
    "We use a set to avoid counting duplicates more than once. Be careful if trying to execute this: this method is somewhat memory intensive."
   ]
  },
  {
   "cell_type": "code",
   "execution_count": 14,
   "metadata": {},
   "outputs": [
    {
     "name": "stderr",
     "output_type": "stream",
     "text": [
      "139000000it [01:55, 1204816.02it/s]\n"
     ]
    }
   ],
   "source": [
    "file=open(\"F:\\hash.txt\",\"r\")\n",
    "temp=set()\n",
    "for line in tqdm(file):\n",
    "    temp.add(line)\n",
    "    \n",
    "file.close()"
   ]
  },
  {
   "cell_type": "code",
   "execution_count": 15,
   "metadata": {},
   "outputs": [
    {
     "data": {
      "text/plain": [
       "125000000"
      ]
     },
     "execution_count": 15,
     "metadata": {},
     "output_type": "execute_result"
    }
   ],
   "source": [
    "len(temp)"
   ]
  },
  {
   "cell_type": "code",
   "execution_count": 35,
   "metadata": {},
   "outputs": [
    {
     "name": "stdout",
     "output_type": "stream",
     "text": [
      "The absolute error is 736224\n",
      "The relative error is 0.6 %\n"
     ]
    }
   ],
   "source": [
    "#We finally compute the error:\n",
    "print(\"The absolute error is\", abs(int(expected_value-len(temp))))\n",
    "print(\"The relative error is\", round(abs((expected_value-len(temp))/len(temp)),3)*100,\"%\")"
   ]
  },
  {
   "cell_type": "markdown",
   "metadata": {},
   "source": [
    "# Question 3"
   ]
  },
  {
   "cell_type": "markdown",
   "metadata": {},
   "source": [
    "Let $A$ be the array we want to sort."
   ]
  },
  {
   "cell_type": "code",
   "execution_count": 17,
   "metadata": {},
   "outputs": [],
   "source": [
    "A=[1,2,4,2,1,3,5,7,1,2,6,9,11,2,4,5]"
   ]
  },
  {
   "cell_type": "markdown",
   "metadata": {},
   "source": [
    "Calculating the maximum and the minimum of the array can be done with a single pass. The complexity for this step is $O(n)$ where $n$ is the lenght of the array."
   ]
  },
  {
   "cell_type": "code",
   "execution_count": 18,
   "metadata": {},
   "outputs": [],
   "source": [
    "m=A[0]\n",
    "M=A[0]\n",
    "for element in A:\n",
    "    if element<m:\n",
    "        m=element\n",
    "    if element>M:\n",
    "        M=element"
   ]
  },
  {
   "cell_type": "markdown",
   "metadata": {},
   "source": [
    "Let $m$ be the minimum and $M$ be the maximum. Allocate an array $B$ of size $M-m+1$ and initialize it to all 0. If we call $r$ the difference $M-m$, the complexity for this step is $O(r)$."
   ]
  },
  {
   "cell_type": "code",
   "execution_count": 19,
   "metadata": {},
   "outputs": [],
   "source": [
    "B=[0]*(M-m+1)\n",
    "r=M-m"
   ]
  },
  {
   "cell_type": "markdown",
   "metadata": {},
   "source": [
    "Finally, it is possible to look at every element of the first array $A$ and for each element $e$ found increment the element in position $e-m$ in the second array $B$. This is of complexity $O(n)$."
   ]
  },
  {
   "cell_type": "code",
   "execution_count": 20,
   "metadata": {},
   "outputs": [],
   "source": [
    "for element in A:\n",
    "    B[element-m]+=1"
   ]
  },
  {
   "cell_type": "markdown",
   "metadata": {},
   "source": [
    "It is now possible to construct an array $C$ which is array $A$ sorted by simply looking at the numbers found in the $B$ array: a number $k$ in position $j$ means that the sorted array will have $k$ copies of the number $j+e$. Complexity for this step is $O(n+r)$"
   ]
  },
  {
   "cell_type": "code",
   "execution_count": 21,
   "metadata": {},
   "outputs": [],
   "source": [
    "sorted_A=[]\n",
    "\n",
    "for i in range(len(B)):  #O(r)\n",
    "    for j in range(B[i]): \n",
    "        # The complexity of this cycle is variable with average O(n/r). This is because the number\n",
    "        # of elements that can get added in the \"sorted_A\" array is exacly n and this number has to be split into r parts.\n",
    "        sorted_A.append(i+m)"
   ]
  },
  {
   "cell_type": "markdown",
   "metadata": {},
   "source": [
    "The array A is now sorted."
   ]
  },
  {
   "cell_type": "code",
   "execution_count": 22,
   "metadata": {},
   "outputs": [
    {
     "name": "stdout",
     "output_type": "stream",
     "text": [
      "[1, 1, 1, 2, 2, 2, 2, 3, 4, 4, 5, 5, 6, 7, 9, 11]\n"
     ]
    }
   ],
   "source": [
    "print(sorted_A)"
   ]
  },
  {
   "cell_type": "markdown",
   "metadata": {},
   "source": [
    "Since the steps are of complexity $O(n), O(r), O(n+r)$ the total complexity of the algorithm is $O(n+r)$."
   ]
  }
 ],
 "metadata": {
  "kernelspec": {
   "display_name": "Python 3",
   "language": "python",
   "name": "python3"
  },
  "language_info": {
   "codemirror_mode": {
    "name": "ipython",
    "version": 3
   },
   "file_extension": ".py",
   "mimetype": "text/x-python",
   "name": "python",
   "nbconvert_exporter": "python",
   "pygments_lexer": "ipython3",
   "version": "3.8.3"
  }
 },
 "nbformat": 4,
 "nbformat_minor": 4
}
