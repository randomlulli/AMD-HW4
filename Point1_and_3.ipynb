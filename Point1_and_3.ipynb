{
 "cells": [
  {
   "cell_type": "markdown",
   "metadata": {},
   "source": [
    "# Question 1"
   ]
  },
  {
   "cell_type": "markdown",
   "metadata": {},
   "source": [
    "It looks like the file contains 139 000 000 strings with 32 hexadecimal characters."
   ]
  },
  {
   "cell_type": "code",
   "execution_count": 1,
   "metadata": {},
   "outputs": [],
   "source": [
    "file=open(\"hash.txt\",\"r\")\n",
    "lines=file.readlines(100)\n",
    "file.close()"
   ]
  },
  {
   "cell_type": "code",
   "execution_count": 2,
   "metadata": {},
   "outputs": [
    {
     "data": {
      "text/plain": [
       "['844082e02a27ddee8d99ea1af94a2969\\n',\n",
       " 'ff96d6665b5c59d3a70bb8f2ba4f10be\\n',\n",
       " 'b64a85884e2b159829331c19e05dbac9\\n',\n",
       " '1c8836719e84867c26ba2cfeb372c53d\\n']"
      ]
     },
     "execution_count": 2,
     "metadata": {},
     "output_type": "execute_result"
    }
   ],
   "source": [
    "lines"
   ]
  },
  {
   "cell_type": "markdown",
   "metadata": {},
   "source": [
    "Observe that it also read the \"\\n\" character. We will not consider it during the hasing later."
   ]
  },
  {
   "cell_type": "code",
   "execution_count": 3,
   "metadata": {},
   "outputs": [],
   "source": [
    "prime=31\n",
    "const=2**64\n",
    "#Since all the strings we're hashing have 32 characters, we can precompute powers of the prime.\n",
    "powers=[1]\n",
    "for i in range(1,64):\n",
    "    powers.append((powers[i-1]*prime)%const)\n"
   ]
  },
  {
   "cell_type": "code",
   "execution_count": 4,
   "metadata": {},
   "outputs": [],
   "source": [
    "def my_hash(string):\n",
    "    h = 0;\n",
    "    for i in range(len(string)):\n",
    "        h +=  ord(string[i])*powers[i]\n",
    "        #h = h%const\n",
    "    return h%const"
   ]
  },
  {
   "cell_type": "code",
   "execution_count": 5,
   "metadata": {},
   "outputs": [
    {
     "data": {
      "text/plain": [
       "10509802827583165004"
      ]
     },
     "execution_count": 5,
     "metadata": {},
     "output_type": "execute_result"
    }
   ],
   "source": [
    "my_hash(\"844082e02a27ddef8d99ea1af94a2969\")"
   ]
  },
  {
   "cell_type": "code",
   "execution_count": 6,
   "metadata": {},
   "outputs": [],
   "source": [
    "def add_zeros(string):\n",
    "    return \"0\"*(64-len(string))+string"
   ]
  },
  {
   "cell_type": "code",
   "execution_count": 7,
   "metadata": {},
   "outputs": [
    {
     "name": "stdout",
     "output_type": "stream",
     "text": [
      "1000001111101101000100001011000100100011111010111011010001101101\n",
      "0000000000010111111000101110100011100110010011010110100111100110\n",
      "1111110000001110101111101010111000111111010100001110011000001110\n"
     ]
    }
   ],
   "source": [
    "for i in range(3):\n",
    "    print(add_zeros(\"{0:b}\".format(my_hash(lines[i][:-1])))) #We're removing the last character \"\\n\" with the [:-1]."
   ]
  },
  {
   "cell_type": "code",
   "execution_count": 8,
   "metadata": {},
   "outputs": [],
   "source": [
    "m=17 #This is the number of bits used for buckets\n",
    "\n",
    "#Let's define a vector of 2**m integers for the HLL:\n",
    "registers=[0 for x in range(2**m)]"
   ]
  },
  {
   "cell_type": "code",
   "execution_count": 9,
   "metadata": {},
   "outputs": [],
   "source": [
    "def string_to_int(string):\n",
    "    temp=string[:m]\n",
    "    temp=int(temp, 2)\n",
    "    return temp"
   ]
  },
  {
   "cell_type": "code",
   "execution_count": 10,
   "metadata": {},
   "outputs": [],
   "source": [
    "def max_zeros(string):\n",
    "    string=string[m:]\n",
    "    maximum=0\n",
    "    temp=0\n",
    "    for i in range(len(string)):\n",
    "        if string[i]==\"0\":\n",
    "            temp+=1\n",
    "        else:\n",
    "            maximum=temp\n",
    "            break\n",
    "            \n",
    "    return maximum\n",
    "        \n",
    "        "
   ]
  },
  {
   "cell_type": "code",
   "execution_count": 12,
   "metadata": {},
   "outputs": [
    {
     "name": "stdout",
     "output_type": "stream",
     "text": [
      "10000000\n",
      "20000000\n",
      "30000000\n",
      "40000000\n",
      "50000000\n",
      "60000000\n",
      "70000000\n",
      "80000000\n",
      "90000000\n",
      "100000000\n",
      "110000000\n",
      "120000000\n",
      "130000000\n"
     ]
    }
   ],
   "source": [
    "file=open(\"hash.txt\",\"r\")\n",
    "i=0\n",
    "for line in file:\n",
    "    i+=1\n",
    "    if i%10000000==0:\n",
    "        print(i)\n",
    "    hash_value=add_zeros((\"{0:b}\".format(my_hash(line[:-1]))))\n",
    "    if registers[string_to_int(hash_value)]<max_zeros(hash_value):\n",
    "        registers[string_to_int(hash_value)]=max_zeros(hash_value) \n",
    "        #print (hash_value)\n",
    "        #print(lines[i])\n",
    "        #print()\n",
    "file.close()"
   ]
  },
  {
   "cell_type": "code",
   "execution_count": 13,
   "metadata": {},
   "outputs": [],
   "source": [
    "a_m = 0.7213/(1+1.079/(2**m))"
   ]
  },
  {
   "cell_type": "code",
   "execution_count": 14,
   "metadata": {},
   "outputs": [],
   "source": [
    "sum=0\n",
    "for i in range(len(registers)):\n",
    "    sum+=2**(-registers[i]-1)\n",
    "sum=sum**(-1)\n",
    "expected_value=(2**m)**2*a_m*sum"
   ]
  },
  {
   "cell_type": "code",
   "execution_count": 15,
   "metadata": {},
   "outputs": [
    {
     "data": {
      "text/plain": [
       "124420139.04567382"
      ]
     },
     "execution_count": 15,
     "metadata": {},
     "output_type": "execute_result"
    }
   ],
   "source": [
    "expected_value"
   ]
  },
  {
   "cell_type": "code",
   "execution_count": 16,
   "metadata": {},
   "outputs": [
    {
     "name": "stdout",
     "output_type": "stream",
     "text": [
      "12.3 µs ± 1.07 µs per loop (mean ± std. dev. of 7 runs, 100000 loops each)\n"
     ]
    }
   ],
   "source": [
    "%%timeit\n",
    "my_hash(\"844082e02a27ddee8d99ea1af94a2969\")"
   ]
  },
  {
   "cell_type": "code",
   "execution_count": 17,
   "metadata": {},
   "outputs": [
    {
     "name": "stdout",
     "output_type": "stream",
     "text": [
      "12.3 µs ± 2.06 µs per loop (mean ± std. dev. of 7 runs, 100000 loops each)\n"
     ]
    }
   ],
   "source": [
    "%%timeit\n",
    "my_hash(\"844082e02a27ddee8d99ea1af94a2969\")"
   ]
  },
  {
   "cell_type": "markdown",
   "metadata": {},
   "source": [
    "# Question 3"
   ]
  },
  {
   "cell_type": "markdown",
   "metadata": {},
   "source": [
    "Let $A$ be the array we want to sort.\n",
    "\n",
    "Calculating the maximum and the minimum of the array can be done with a single pass. The complexity for this step is $O(n)$ where $n$ is the lenght of the array.\n",
    "\n",
    "Let $m$ be the minimum and $M$ be the maximum. Allocate an array $B$ of size $M-m+1$ and initialize it to all 0. If we call $r$ the difference $M-m$, the complexity for this step is $O(r)$.\n",
    "\n",
    "Finally, it is possible to look at every element of the first array $A$ and for each element $e$ found increment the element in position $e-m$ in the second array $B$. This is of complexity $O(n)$. It is now possible to construct an array $C$ which is array $A$ sorted DA FINIRE. "
   ]
  },
  {
   "cell_type": "code",
   "execution_count": null,
   "metadata": {},
   "outputs": [],
   "source": []
  }
 ],
 "metadata": {
  "kernelspec": {
   "display_name": "Python 3",
   "language": "python",
   "name": "python3"
  },
  "language_info": {
   "codemirror_mode": {
    "name": "ipython",
    "version": 3
   },
   "file_extension": ".py",
   "mimetype": "text/x-python",
   "name": "python",
   "nbconvert_exporter": "python",
   "pygments_lexer": "ipython3",
   "version": "3.8.3"
  }
 },
 "nbformat": 4,
 "nbformat_minor": 4
}
